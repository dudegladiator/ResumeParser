{
  "cells": [
    {
      "cell_type": "markdown",
      "source": [
        "### RUN"
      ],
      "metadata": {
        "id": "zx6k0Ein1Cde"
      }
    },
    {
      "cell_type": "code",
      "execution_count": 1,
      "metadata": {
        "id": "MjMeIAXjJisg",
        "colab": {
          "base_uri": "https://localhost:8080/"
        },
        "outputId": "896feff8-cb0d-471d-8ff7-039efb7ce3ac"
      },
      "outputs": [
        {
          "output_type": "stream",
          "name": "stdout",
          "text": [
            "Collecting pdfminer.six==20221105\n",
            "  Downloading pdfminer.six-20221105-py3-none-any.whl (5.6 MB)\n",
            "\u001b[2K     \u001b[90m━━━━━━━━━━━━━━━━━━━━━━━━━━━━━━━━━━━━━━━━\u001b[0m \u001b[32m5.6/5.6 MB\u001b[0m \u001b[31m43.6 MB/s\u001b[0m eta \u001b[36m0:00:00\u001b[0m\n",
            "\u001b[?25hRequirement already satisfied: spacy in /usr/local/lib/python3.10/dist-packages (3.6.1)\n",
            "Collecting docx2txt==0.8\n",
            "  Downloading docx2txt-0.8.tar.gz (2.8 kB)\n",
            "  Preparing metadata (setup.py) ... \u001b[?25l\u001b[?25hdone\n",
            "Requirement already satisfied: charset-normalizer>=2.0.0 in /usr/local/lib/python3.10/dist-packages (from pdfminer.six==20221105) (3.3.1)\n",
            "Requirement already satisfied: cryptography>=36.0.0 in /usr/local/lib/python3.10/dist-packages (from pdfminer.six==20221105) (41.0.5)\n",
            "Requirement already satisfied: spacy-legacy<3.1.0,>=3.0.11 in /usr/local/lib/python3.10/dist-packages (from spacy) (3.0.12)\n",
            "Requirement already satisfied: spacy-loggers<2.0.0,>=1.0.0 in /usr/local/lib/python3.10/dist-packages (from spacy) (1.0.5)\n",
            "Requirement already satisfied: murmurhash<1.1.0,>=0.28.0 in /usr/local/lib/python3.10/dist-packages (from spacy) (1.0.10)\n",
            "Requirement already satisfied: cymem<2.1.0,>=2.0.2 in /usr/local/lib/python3.10/dist-packages (from spacy) (2.0.8)\n",
            "Requirement already satisfied: preshed<3.1.0,>=3.0.2 in /usr/local/lib/python3.10/dist-packages (from spacy) (3.0.9)\n",
            "Requirement already satisfied: thinc<8.2.0,>=8.1.8 in /usr/local/lib/python3.10/dist-packages (from spacy) (8.1.12)\n",
            "Requirement already satisfied: wasabi<1.2.0,>=0.9.1 in /usr/local/lib/python3.10/dist-packages (from spacy) (1.1.2)\n",
            "Requirement already satisfied: srsly<3.0.0,>=2.4.3 in /usr/local/lib/python3.10/dist-packages (from spacy) (2.4.8)\n",
            "Requirement already satisfied: catalogue<2.1.0,>=2.0.6 in /usr/local/lib/python3.10/dist-packages (from spacy) (2.0.10)\n",
            "Requirement already satisfied: typer<0.10.0,>=0.3.0 in /usr/local/lib/python3.10/dist-packages (from spacy) (0.9.0)\n",
            "Requirement already satisfied: pathy>=0.10.0 in /usr/local/lib/python3.10/dist-packages (from spacy) (0.10.3)\n",
            "Requirement already satisfied: smart-open<7.0.0,>=5.2.1 in /usr/local/lib/python3.10/dist-packages (from spacy) (6.4.0)\n",
            "Requirement already satisfied: tqdm<5.0.0,>=4.38.0 in /usr/local/lib/python3.10/dist-packages (from spacy) (4.66.1)\n",
            "Requirement already satisfied: numpy>=1.15.0 in /usr/local/lib/python3.10/dist-packages (from spacy) (1.23.5)\n",
            "Requirement already satisfied: requests<3.0.0,>=2.13.0 in /usr/local/lib/python3.10/dist-packages (from spacy) (2.31.0)\n",
            "Requirement already satisfied: pydantic!=1.8,!=1.8.1,<3.0.0,>=1.7.4 in /usr/local/lib/python3.10/dist-packages (from spacy) (1.10.13)\n",
            "Requirement already satisfied: jinja2 in /usr/local/lib/python3.10/dist-packages (from spacy) (3.1.2)\n",
            "Requirement already satisfied: setuptools in /usr/local/lib/python3.10/dist-packages (from spacy) (67.7.2)\n",
            "Requirement already satisfied: packaging>=20.0 in /usr/local/lib/python3.10/dist-packages (from spacy) (23.2)\n",
            "Requirement already satisfied: langcodes<4.0.0,>=3.2.0 in /usr/local/lib/python3.10/dist-packages (from spacy) (3.3.0)\n",
            "Requirement already satisfied: cffi>=1.12 in /usr/local/lib/python3.10/dist-packages (from cryptography>=36.0.0->pdfminer.six==20221105) (1.16.0)\n",
            "Requirement already satisfied: typing-extensions>=4.2.0 in /usr/local/lib/python3.10/dist-packages (from pydantic!=1.8,!=1.8.1,<3.0.0,>=1.7.4->spacy) (4.5.0)\n",
            "Requirement already satisfied: idna<4,>=2.5 in /usr/local/lib/python3.10/dist-packages (from requests<3.0.0,>=2.13.0->spacy) (3.4)\n",
            "Requirement already satisfied: urllib3<3,>=1.21.1 in /usr/local/lib/python3.10/dist-packages (from requests<3.0.0,>=2.13.0->spacy) (2.0.7)\n",
            "Requirement already satisfied: certifi>=2017.4.17 in /usr/local/lib/python3.10/dist-packages (from requests<3.0.0,>=2.13.0->spacy) (2023.7.22)\n",
            "Requirement already satisfied: blis<0.8.0,>=0.7.8 in /usr/local/lib/python3.10/dist-packages (from thinc<8.2.0,>=8.1.8->spacy) (0.7.11)\n",
            "Requirement already satisfied: confection<1.0.0,>=0.0.1 in /usr/local/lib/python3.10/dist-packages (from thinc<8.2.0,>=8.1.8->spacy) (0.1.3)\n",
            "Requirement already satisfied: click<9.0.0,>=7.1.1 in /usr/local/lib/python3.10/dist-packages (from typer<0.10.0,>=0.3.0->spacy) (8.1.7)\n",
            "Requirement already satisfied: MarkupSafe>=2.0 in /usr/local/lib/python3.10/dist-packages (from jinja2->spacy) (2.1.3)\n",
            "Requirement already satisfied: pycparser in /usr/local/lib/python3.10/dist-packages (from cffi>=1.12->cryptography>=36.0.0->pdfminer.six==20221105) (2.21)\n",
            "Building wheels for collected packages: docx2txt\n",
            "  Building wheel for docx2txt (setup.py) ... \u001b[?25l\u001b[?25hdone\n",
            "  Created wheel for docx2txt: filename=docx2txt-0.8-py3-none-any.whl size=3959 sha256=8eab530e990d0f1d2d8f82187354f956258a6c45c93a3877c6adab7d5379ffd8\n",
            "  Stored in directory: /root/.cache/pip/wheels/22/58/cf/093d0a6c3ecfdfc5f6ddd5524043b88e59a9a199cb02352966\n",
            "Successfully built docx2txt\n",
            "Installing collected packages: docx2txt, pdfminer.six\n",
            "Successfully installed docx2txt-0.8 pdfminer.six-20221105\n"
          ]
        }
      ],
      "source": [
        "!pip install pdfminer.six==20221105 spacy docx2txt==0.8"
      ]
    },
    {
      "cell_type": "code",
      "source": [
        "import re\n",
        "import spacy\n",
        "from pdfminer.high_level import extract_text\n",
        "import docx2txt\n",
        "import requests\n",
        "import string\n",
        "import logging"
      ],
      "metadata": {
        "id": "34YVu3lqtg3J"
      },
      "execution_count": 2,
      "outputs": []
    },
    {
      "cell_type": "code",
      "source": [
        "import gdown\n",
        "gdown.download(id=\"1CDV96X0IEAz2Knu-K5qCrrAAu9Uoy7D4\", output='skill-model.zip', quiet=False,fuzzy=True)\n",
        "#https://drive.google.com/file/d/1CDV96X0IEAz2Knu-K5qCrrAAu9Uoy7D4/view?usp=drive_link\n",
        "gdown.download(id=\"1nArFoGLxeO_M9lbt6FEf55VCb6AE-6Y7\", output='model2.zip', quiet=False,fuzzy=True)\n",
        "#https://drive.google.com/file/d/1nArFoGLxeO_M9lbt6FEf55VCb6AE-6Y7/view?usp=sharing\n",
        "gdown.download(id=\"145snFZTUqbqsK2nWqZLDGVu6pkbKtioI\", output='model3.zip', quiet=False,fuzzy=True)\n",
        "#https://drive.google.com/file/d/145snFZTUqbqsK2nWqZLDGVu6pkbKtioI/view?usp=sharing\n",
        "gdown.download(id=\"1IqmCE13IKPsfba89267VFHKg-_xsNWAK\", output='sample.pdf', quiet=False,fuzzy=True)\n",
        "#https://drive.google.com/file/d/1IqmCE13IKPsfba89267VFHKg-_xsNWAK/view?usp=sharing"
      ],
      "metadata": {
        "id": "U4RO8tIMRUC4",
        "colab": {
          "base_uri": "https://localhost:8080/",
          "height": 313
        },
        "outputId": "e8866a61-aee4-4a71-aeab-a91fde55dab7"
      },
      "execution_count": 3,
      "outputs": [
        {
          "output_type": "stream",
          "name": "stderr",
          "text": [
            "Downloading...\n",
            "From: https://drive.google.com/uc?id=1CDV96X0IEAz2Knu-K5qCrrAAu9Uoy7D4\n",
            "To: /content/skill-model.zip\n",
            "100%|██████████| 607M/607M [00:17<00:00, 35.2MB/s]\n",
            "Downloading...\n",
            "From: https://drive.google.com/uc?id=1nArFoGLxeO_M9lbt6FEf55VCb6AE-6Y7\n",
            "To: /content/model2.zip\n",
            "100%|██████████| 607M/607M [00:17<00:00, 35.0MB/s]\n",
            "Downloading...\n",
            "From: https://drive.google.com/uc?id=145snFZTUqbqsK2nWqZLDGVu6pkbKtioI\n",
            "To: /content/model3.zip\n",
            "100%|██████████| 607M/607M [00:17<00:00, 35.3MB/s]\n",
            "Downloading...\n",
            "From: https://drive.google.com/uc?id=1IqmCE13IKPsfba89267VFHKg-_xsNWAK\n",
            "To: /content/sample.pdf\n",
            "100%|██████████| 72.3k/72.3k [00:00<00:00, 18.0MB/s]\n"
          ]
        },
        {
          "output_type": "execute_result",
          "data": {
            "text/plain": [
              "'sample.pdf'"
            ],
            "application/vnd.google.colaboratory.intrinsic+json": {
              "type": "string"
            }
          },
          "metadata": {},
          "execution_count": 3
        }
      ]
    },
    {
      "cell_type": "code",
      "source": [
        "!unzip skill-model.zip\n",
        "!unzip model2.zip\n",
        "!unzip model3.zip"
      ],
      "metadata": {
        "id": "q0eYja6Aacat",
        "colab": {
          "base_uri": "https://localhost:8080/"
        },
        "outputId": "69d1824e-9b64-41cf-a698-5d9511898731"
      },
      "execution_count": 4,
      "outputs": [
        {
          "output_type": "stream",
          "name": "stdout",
          "text": [
            "Archive:  skill-model.zip\n",
            "  inflating: train1/config.cfg       \n",
            "  inflating: train1/tok2vec/cfg      \n",
            "  inflating: train1/vocab/vectors.cfg  \n",
            "  inflating: train1/vocab/lookups.bin  \n",
            "  inflating: train1/meta.json        \n",
            "  inflating: train1/ner/moves        \n",
            "  inflating: train1/ner/cfg          \n",
            "  inflating: train1/ner/model        \n",
            "  inflating: train1/tokenizer        \n",
            "  inflating: train1/vocab/key2row    \n",
            "  inflating: train1/vocab/strings.json  \n",
            "  inflating: train1/tok2vec/model    \n",
            "  inflating: train1/vocab/vectors    \n",
            "Archive:  model2.zip\n",
            "  inflating: train3/tok2vec/cfg      \n",
            "  inflating: train3/ner/cfg          \n",
            "  inflating: train3/meta.json        \n",
            "  inflating: train3/tokenizer        \n",
            "  inflating: train3/ner/moves        \n",
            "  inflating: train3/config.cfg       \n",
            "  inflating: train3/ner/model        \n",
            "  inflating: train3/vocab/lookups.bin  \n",
            "  inflating: train3/vocab/vectors.cfg  \n",
            "  inflating: train3/vocab/key2row    \n",
            "  inflating: train3/vocab/strings.json  \n",
            "  inflating: train3/tok2vec/model    \n",
            "  inflating: train3/vocab/vectors    \n",
            "Archive:  model3.zip\n",
            "  inflating: model-best/meta.json    \n",
            "  inflating: model-best/ner/moves    \n",
            "  inflating: model-best/tokenizer    \n",
            "  inflating: model-best/config.cfg   \n",
            "  inflating: model-best/vocab/lookups.bin  \n",
            "  inflating: model-best/ner/model    \n",
            "  inflating: model-best/vocab/vectors.cfg  \n",
            "  inflating: model-best/tok2vec/cfg  \n",
            "  inflating: model-best/ner/cfg      \n",
            "  inflating: model-best/vocab/key2row  \n",
            "  inflating: model-best/tok2vec/model  \n",
            "  inflating: model-best/vocab/strings.json  \n",
            "  inflating: model-best/vocab/vectors  \n"
          ]
        }
      ]
    },
    {
      "cell_type": "markdown",
      "metadata": {
        "id": "fdJU9ozFeEtc"
      },
      "source": [
        "###Load Model"
      ]
    },
    {
      "cell_type": "code",
      "execution_count": 5,
      "metadata": {
        "id": "KdGX6BMbNDY2"
      },
      "outputs": [],
      "source": [
        "skill_model = spacy.load(\"/content/train1\")\n",
        "model2 = spacy.load(\"/content/train3\")\n",
        "model3 = spacy.load(\"/content/model-best\")"
      ]
    },
    {
      "cell_type": "markdown",
      "metadata": {
        "id": "H7CUdqrjeHHM"
      },
      "source": [
        "###Try"
      ]
    },
    {
      "cell_type": "code",
      "source": [
        "#Please provide the path of the resume\n",
        "path =\"/content/sample.pdf\""
      ],
      "metadata": {
        "id": "tlwQ1mImeXgM"
      },
      "execution_count": 6,
      "outputs": []
    },
    {
      "cell_type": "code",
      "execution_count": 7,
      "metadata": {
        "id": "w3MRuLsPMvfU"
      },
      "outputs": [],
      "source": [
        "def extract_email_from_resume(text):\n",
        "    email = None\n",
        "    words = text.split()\n",
        "    email = []\n",
        "    for word in words:\n",
        "        if \"@\" in word:\n",
        "            email.append(word.strip())\n",
        "    return email"
      ]
    },
    {
      "cell_type": "code",
      "execution_count": 8,
      "metadata": {
        "id": "CJxH7Mw1MvdD"
      },
      "outputs": [],
      "source": [
        "def extract_contact_number_from_resume(text):\n",
        "    contact_number = None\n",
        "    pattern = r\"\\b(?:\\+?\\d{1,3}[-.\\s]?)?\\(?\\d{3}\\)?[-.\\s]?\\d{3}[-.\\s]?\\d{4}\\b\"\n",
        "    match = re.search(pattern, text)\n",
        "    if match:\n",
        "        contact_number = match.group()\n",
        "\n",
        "    return contact_number"
      ]
    },
    {
      "cell_type": "code",
      "execution_count": 9,
      "metadata": {
        "id": "alcLJJiLDfiw"
      },
      "outputs": [],
      "source": [
        "def extract_link(text):\n",
        "    link = []\n",
        "    pattern = r\"(https?:\\/\\/(?:www\\.|(?!www))[a-zA-Z0-9][a-zA-Z0-9-]+[a-zA-Z0-9]\\.[^\\s]{2,}|www\\.[a-zA-Z0-9][a-zA-Z0-9-]+[a-zA-Z0-9]\\.[^\\s]{2,}|https?:\\/\\/(?:www\\.|(?!www))[a-zA-Z0-9]+\\.[^\\s]{2,}|www\\.[a-zA-Z0-9]+\\.[^\\s]{2,})\"\n",
        "    links = re.findall(pattern, text)\n",
        "    return links"
      ]
    },
    {
      "cell_type": "code",
      "execution_count": 10,
      "metadata": {
        "id": "36y1CTofiXtB"
      },
      "outputs": [],
      "source": [
        "def extract_text_from(file_path, extension):\n",
        "    text = ''\n",
        "    if extension == '.pdf':\n",
        "      with open(file_path, 'rb') as f:\n",
        "        text = extract_text(f)\n",
        "    elif extension == '.docx' or extension == '.doc':\n",
        "      with open(file_path, 'rb') as f:\n",
        "        text = docx2txt.process(file_path)\n",
        "    elif extension ==\".txt\":\n",
        "        text = open(file_path).read()\n",
        "    return text"
      ]
    },
    {
      "cell_type": "code",
      "source": [
        "extracted_details = {}"
      ],
      "metadata": {
        "id": "UrCHAmWOrf5c"
      },
      "execution_count": 11,
      "outputs": []
    },
    {
      "cell_type": "code",
      "execution_count": 12,
      "metadata": {
        "id": "VKJq46CxDMre"
      },
      "outputs": [],
      "source": [
        "contains_punctuation = lambda s: any(char in string.punctuation for char in s)\n",
        "\n",
        "def extract_deatils(text):\n",
        "    email = extract_email_from_resume(text)\n",
        "    extracted_details[\"email\"] = email\n",
        "    print(\"Email -\", email)\n",
        "    contact_number = extract_contact_number_from_resume(text)\n",
        "    print(\"Contact Number - \",contact_number)\n",
        "    extracted_details[\"contact_number\"] = contact_number\n",
        "    links = extract_link(text)\n",
        "    print(\"Links -\",links)\n",
        "    extracted_details[\"links\"] = links\n",
        "\n",
        "\n",
        "    skills = set()\n",
        "    for ent in skill_model(text).ents:\n",
        "        if ent.label_ == \"HARD_SKILLS\":\n",
        "          if len(ent.text) < 3 or ent.text.isnumeric() or contains_punctuation(ent.text):\n",
        "            continue\n",
        "          skills.add(ent.text)\n",
        "\n",
        "    print(\"skills -\",skills)\n",
        "    extracted_details[\"skills\"] = skills"
      ]
    },
    {
      "cell_type": "code",
      "execution_count": 13,
      "metadata": {
        "id": "xS-TuYpTE8bT"
      },
      "outputs": [],
      "source": [
        "dic = {}\n",
        "features = set()"
      ]
    },
    {
      "cell_type": "code",
      "execution_count": 14,
      "metadata": {
        "colab": {
          "base_uri": "https://localhost:8080/"
        },
        "id": "tPboSRC1DMul",
        "outputId": "95a080c0-2518-44ca-922c-ee46aaec6f6b"
      },
      "outputs": [
        {
          "output_type": "stream",
          "name": "stdout",
          "text": [
            "Email - ['proffapt@pm.me']\n",
            "Contact Number -  None\n",
            "Links - []\n",
            "skills - {'Vim', 'Python', 'MongoDB', 'API', 'fetch the', 'GitHub', 'Java', 'derlying', 'CSS', 'Linux', 'Red', 'Golang', 'Web', 'log management', 'Python\\n', 'fERP', 'script', 'Linux System', 'Unix', 'Postgresql', 'debugging', 'HTML', 'Data Structures', 'LaTeX', 'PostgreSQL', 'Git', 'OS Platforms'}\n"
          ]
        }
      ],
      "source": [
        "text = extract_text_from(path ,\".\"+path.split(\".\")[-1])\n",
        "# print(text)\n",
        "extract_deatils(text)"
      ]
    },
    {
      "cell_type": "code",
      "execution_count": 15,
      "metadata": {
        "id": "3qG_Y5lQDMmE",
        "colab": {
          "base_uri": "https://localhost:8080/"
        },
        "outputId": "29aed7bb-73ab-47f2-c4ce-bb48f6e8d618"
      },
      "outputs": [
        {
          "output_type": "stream",
          "name": "stdout",
          "text": [
            "COLLEGE  -->  Arpit Bhardwaj\n",
            "----------------------------------\n",
            "LOCATION  -->  Mathura\n",
            "----------------------------------\n",
            "DEGREE  -->  B.Tech. in Industrial and Systems Engineering\n",
            "----------------------------------\n",
            "COLLEGE  -->  Indian Institute of Technology\n",
            "----------------------------------\n",
            "LOCATION  -->  Kharagpur\n",
            "----------------------------------\n",
            "SKILLS  -->  CSS\n",
            "----------------------------------\n",
            "COLLEGE  -->  GSYNC\n",
            "----------------------------------\n",
            "SKILLS  -->  BASH\n",
            "----------------------------------\n",
            "SKILLS  -->  GitHub\n",
            "----------------------------------\n",
            "SKILLS  -->  nix\n",
            "----------------------------------\n",
            "SKILLS  -->  Linux\n",
            "----------------------------------\n",
            "SKILLS  -->  Python\n",
            "----------------------------------\n",
            "SKILLS  -->  Java\n",
            "----------------------------------\n",
            "SKILLS  -->  JavaScript\n",
            "----------------------------------\n",
            "SKILLS  -->  Python\n",
            "----------------------------------\n",
            "SKILLS  -->  HTML\n",
            "----------------------------------\n",
            "SKILLS  -->  CSS\n",
            "----------------------------------\n",
            "SKILLS  -->  lua\n",
            "----------------------------------\n",
            "SKILLS  -->  C\n",
            "----------------------------------\n",
            "SKILLS  -->  C++\n",
            "----------------------------------\n",
            "SKILLS  -->  LaTeX\n",
            "----------------------------------\n",
            "SKILLS  -->  PostgreSQL\n",
            "----------------------------------\n",
            "SKILLS  -->  MongoDB\n",
            "----------------------------------\n",
            "SKILLS  -->  Nix OS\n",
            "----------------------------------\n",
            "SKILLS  -->  Linux\n",
            "----------------------------------\n",
            "SKILLS  -->  Debian\n",
            "----------------------------------\n",
            "SKILLS  -->  Fedora\n",
            "----------------------------------\n",
            "SKILLS  -->  Cen-\n",
            "----------------------------------\n",
            "SKILLS  -->  Git\n",
            "----------------------------------\n",
            "SKILLS  -->  GitHub\n",
            "----------------------------------\n",
            "SKILLS  -->  Linux\n",
            "----------------------------------\n",
            "TITLE  -->  Co-Founder\n",
            "----------------------------------\n",
            "SKILLS  -->  Cybernity\n",
            "----------------------------------\n",
            "TITLE  -->  Executive Head\n",
            "----------------------------------\n",
            "COMPANY  -->  automator\n",
            "----------------------------------\n",
            "COLLEGE  -->  Kharagpur Winter Of Code)\n",
            "----------------------------------\n",
            "SKILLS  -->  Complex Analysis\n",
            "----------------------------------\n"
          ]
        }
      ],
      "source": [
        "for ent in model2(text).ents:\n",
        "    if dic.get(ent.label_+\"->\"+ent.text) != None:\n",
        "        dic[ent.label_+\"->\"+ent.text] += 1\n",
        "    else:\n",
        "        dic[ent.label_+\"->\"+ent.text] = 1\n",
        "    print(ent.label_,\" --> \", ent.text)\n",
        "    print(\"----------------------------------\")\n",
        "    features.add(ent.text)"
      ]
    },
    {
      "cell_type": "code",
      "execution_count": 16,
      "metadata": {
        "id": "zaK_IQ5Q9Rki",
        "colab": {
          "base_uri": "https://localhost:8080/"
        },
        "outputId": "b24bb826-fed0-40c4-fae4-6cfff553b9c7"
      },
      "outputs": [
        {
          "output_type": "stream",
          "name": "stdout",
          "text": [
            "NAME  -->  � proffapt.hashnode.dev\n",
            "----------------------------------\n",
            "COLLEGE NAME  -->  Arpit Bhardwaj\n",
            "----------------------------------\n",
            "LOCATION  -->  Mathura\n",
            "----------------------------------\n",
            "COLLEGE NAME  -->  Indian Institute of Technology, Kharagpur\n",
            "----------------------------------\n",
            "EMAIL ADDRESS  -->  fERP\n",
            "----------------------------------\n",
            "SKILLS  -->  Languages Bash, Golang, Java, JavaScript, Python, HTML, CSS, lua, C, C++, LaTeX\n",
            "\n",
            "Data Storage / Handling\n",
            "\n",
            "PostgreSQL, MongoDB\n",
            "\n",
            "OS Platforms Nix OS, Unix(Free BSD, Open BSD, Solaris-8,9,10 and MacOS X), Linux 5/6 (Debian, Fedora, Cen-\n",
            "\n",
            "tOS, Arch, Gentoo and their derivatives), Windows (7, 8, 8.1 and 10)\n",
            "\n",
            "Others Git and GitHub, Linux System Administration, BackEnd Development, Web Browser Extension\n",
            "Development, Object Oriented Programming, Penetration-testing (Red Team and Blue Team),\n",
            "Gurobi & CPLEX Optimisation.\n",
            "\n",
            "Activities & Leadership\n",
            "• Co-Founder, Cybernity: I established a cybersecurity community to promote its genuine principles and practices, provide\n",
            "\n",
            "training and guidance, and encourage responsible and ethical practices in the field.\n",
            "\n",
            "• Executive Head, KOSS IIT Kharagpur: Responsible for promoting and maintaining open-source culture; contributing to\n",
            "tools (campus-centric) such as feedback-automator, fERP, and timetable manager and successfully organising KWoC-22\n",
            "(Kharagpur Winter Of Code) a month long event for promoting open-source development with 1.2k+ participants.\n",
            "\n",
            "Relevant Coursework\n",
            "\n",
            "(T)heory and (L)aboratory\n",
            "\n",
            "Completed\n",
            "\n",
            "Programming And Data Structures (T/L) | Linear Algebra, Numerical and Complex Analysis (T) |\n",
            "DIY (L) | Basic Electronics (T/L) | Probability and Statistics (T) | Operations Research-I (T) | Oper-\n",
            "ations Research-II (T/L)\n",
            "\n",
            "\f\n",
            "----------------------------------\n"
          ]
        }
      ],
      "source": [
        "for ent in model3(text).ents:\n",
        "    if dic.get(ent.label_+\"->\"+ent.text) != None:\n",
        "        dic[ent.label_+\"->\"+ent.text] += 1\n",
        "    else:\n",
        "        dic[ent.label_+\"->\"+ent.text] = 1\n",
        "    print(ent.label_,\" --> \", ent.text)\n",
        "    print(\"----------------------------------\")\n",
        "    features.add(ent.text)"
      ]
    },
    {
      "cell_type": "code",
      "execution_count": 17,
      "metadata": {
        "id": "5NKP5_Q69RfD",
        "colab": {
          "base_uri": "https://localhost:8080/"
        },
        "outputId": "249f0e2f-3e2d-4d20-9fab-b5bd1a66da99"
      },
      "outputs": [
        {
          "output_type": "stream",
          "name": "stdout",
          "text": [
            "LOCATION  -->  Mathura\n"
          ]
        }
      ],
      "source": [
        "for keys in dic.keys():\n",
        "    if keys.split(\"->\")[0] in [\"SKILLS\",\"YEARS\"] or dic[keys] <= 1:\n",
        "        continue\n",
        "    print(keys.split(\"->\")[0],\" --> \",keys.split(\"->\")[1])\n",
        "    if keys.split(\"->\")[0] == \"LOCATION\":\n",
        "        if extracted_details.get(\"LOCATION\") == None:\n",
        "            extracted_details[\"LOCATION\"] = [keys.split(\"->\")[1]]\n",
        "        else:\n",
        "            extracted_details[\"LOCATION\"].append(keys.split(\"->\")[1])\n",
        "    else :\n",
        "        extracted_details[keys.split(\"->\")[0]] = keys.split(\"->\")[1]"
      ]
    },
    {
      "cell_type": "code",
      "execution_count": 18,
      "metadata": {
        "id": "uKHs_r2la54Z"
      },
      "outputs": [],
      "source": [
        "last_name = requests.get(\"https://gist.githubusercontent.com/dudegladiator/af474064777f93105cbd5fc3b025c2eb/raw/9e9cfa7148ee411680f4b8eb6f672fd00d82474b/Indian_Last_names.txt\").text.lower().split(\"\\n\")\n",
        "colleges1 =  requests.get(\"https://gist.githubusercontent.com/dudegladiator/c0e24cd3e2ee8e9ff9ffea2db556a232/raw/7a4ee3083fc4647087bc47d4b26811a482f03926/Indian_colleges.txt\").text.lower().split(\"\\n\")"
      ]
    },
    {
      "cell_type": "code",
      "execution_count": 19,
      "metadata": {
        "id": "8x4MFzOem1TF"
      },
      "outputs": [],
      "source": [
        "colleges = []\n",
        "for college in colleges1:\n",
        "    colleges.append(college.strip(\" \"))\n",
        "colleges.append(\"indian institute of technology kharagpur\")"
      ]
    },
    {
      "cell_type": "code",
      "execution_count": 20,
      "metadata": {
        "id": "ie5265ouDMjE",
        "colab": {
          "base_uri": "https://localhost:8080/"
        },
        "outputId": "2a83ceb4-089e-4c30-8216-823fd273e396"
      },
      "outputs": [
        {
          "output_type": "stream",
          "name": "stdout",
          "text": [
            "Arpit Bhardwaj\n",
            "Indian Institute of Technology, Kharagpur\n"
          ]
        }
      ],
      "source": [
        "for entity in features:\n",
        "    if str(entity).lower().split()[-1] in last_name:\n",
        "        extracted_details[\"name\"] = str(entity)\n",
        "        print(entity)\n",
        "    if str(entity).lower().replace(\",\", \"\") in colleges:\n",
        "        extracted_details[\"college\"] = str(entity)\n",
        "        print(entity)"
      ]
    },
    {
      "cell_type": "code",
      "source": [
        "extracted_details"
      ],
      "metadata": {
        "id": "zBNL5vgbtHyf",
        "colab": {
          "base_uri": "https://localhost:8080/"
        },
        "outputId": "10f03e4b-6df8-49bb-ec4d-598fba292d94"
      },
      "execution_count": 21,
      "outputs": [
        {
          "output_type": "execute_result",
          "data": {
            "text/plain": [
              "{'email': ['proffapt@pm.me'],\n",
              " 'contact_number': None,\n",
              " 'links': [],\n",
              " 'skills': {'API',\n",
              "  'CSS',\n",
              "  'Data Structures',\n",
              "  'Git',\n",
              "  'GitHub',\n",
              "  'Golang',\n",
              "  'HTML',\n",
              "  'Java',\n",
              "  'LaTeX',\n",
              "  'Linux',\n",
              "  'Linux System',\n",
              "  'MongoDB',\n",
              "  'OS Platforms',\n",
              "  'PostgreSQL',\n",
              "  'Postgresql',\n",
              "  'Python',\n",
              "  'Python\\n',\n",
              "  'Red',\n",
              "  'Unix',\n",
              "  'Vim',\n",
              "  'Web',\n",
              "  'debugging',\n",
              "  'derlying',\n",
              "  'fERP',\n",
              "  'fetch the',\n",
              "  'log management',\n",
              "  'script'},\n",
              " 'LOCATION': ['Mathura'],\n",
              " 'name': 'Arpit Bhardwaj',\n",
              " 'college': 'Indian Institute of Technology, Kharagpur'}"
            ]
          },
          "metadata": {},
          "execution_count": 21
        }
      ]
    }
  ],
  "metadata": {
    "colab": {
      "provenance": []
    },
    "kernelspec": {
      "display_name": "Python 3",
      "name": "python3"
    },
    "language_info": {
      "name": "python"
    }
  },
  "nbformat": 4,
  "nbformat_minor": 0
}